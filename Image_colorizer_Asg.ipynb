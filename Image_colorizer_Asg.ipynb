{
  "cells": [
    {
      "cell_type": "markdown",
      "metadata": {
        "colab_type": "text",
        "id": "view-in-github"
      },
      "source": [
        "<a href=\"https://colab.research.google.com/github/Mehul-Agrawal410/SpeakSpeare/blob/main/Week%201/Assignment_1.ipynb\" target=\"_parent\"><img src=\"https://colab.research.google.com/assets/colab-badge.svg\" alt=\"Open In Colab\"/></a>"
      ]
    },
    {
      "cell_type": "markdown",
      "metadata": {
        "id": "Nrq1XfObkug2"
      },
      "source": [
        "# **Python**"
      ]
    },
    {
      "cell_type": "markdown",
      "metadata": {
        "id": "Ig3HoMi7XsFL"
      },
      "source": [
        "Hello everyone\n",
        "Hope you are learning continuously from our project \"Image Colorizer\"🙃 \n",
        "The following questions are designed to test your basic undersatnding of python in topics such as recursion, functions, loop and classes. DO NOT use ChatGPT for this as it is important that you understand and clarify the basics here because it won't be able to help you on later stages of this project. So it's best to discuss your doubts on the group. Have fun solving this assignment :)"
      ]
    },
    {
      "cell_type": "markdown",
      "metadata": {
        "id": "p1n0OwlNkug4"
      },
      "source": [
        "**Q1. Create a function to calculate a factorial of a number, using recursion.**"
      ]
    },
    {
      "cell_type": "code",
      "execution_count": 1,
      "metadata": {
        "id": "j3HKaA4IXsFN"
      },
      "outputs": [
        {
          "data": {
            "text/plain": [
              "120"
            ]
          },
          "execution_count": 1,
          "metadata": {},
          "output_type": "execute_result"
        }
      ],
      "source": [
        "def fact(n):\n",
        "    if n == 0:\n",
        "        return 1\n",
        "    else:\n",
        "        k= n * fact(n - 1)\n",
        "        return k\n",
        "fact(5)\n"
      ]
    },
    {
      "cell_type": "markdown",
      "metadata": {
        "id": "obQO9ik9XsFN"
      },
      "source": [
        "\n",
        "**Q2. Create a class called \"Car\" that inherits from a parent class called \"Vehicle\". Additionally, the \"Car\" class should have a method to calculate the fuel efficiency, a property to track the current speed, and a class variable to keep track of the total number of cars created.**"
      ]
    },
    {
      "cell_type": "code",
      "execution_count": 24,
      "metadata": {
        "id": "FM7-VeBNXsFO"
      },
      "outputs": [
        {
          "name": "stdout",
          "output_type": "stream",
          "text": [
            "<__main__.Car object at 0x0000028CB471FEC0>\n"
          ]
        }
      ],
      "source": [
        "\n",
        "class Vehicle:\n",
        "  ()\n",
        "\n",
        "class Car(Vehicle):\n",
        "  total_No_cars = 0  \n",
        "\n",
        "  def __init__(self, Car_maker, CAr_model, year, f_type, f_efficiency):\n",
        "   \n",
        "    super().__init__() \n",
        "    self.make = Car_maker\n",
        "    self.model = CAr_model\n",
        "    self.year = year\n",
        "    self.fuel_type = f_type\n",
        "    self.fuel_efficiency = f_efficiency\n",
        "    self.current___speed = 0  \n",
        "    Car.total_No_cars += 1  \n",
        "\n",
        "  def current_speed(self, new_speed):\n",
        "      self.current___speed = new_speed\n",
        "      \n",
        "\n",
        "  def calculate_fuel_range(self, dis):\n",
        "    fule_range=dis / self.fuel_efficiency\n",
        "    return fule_range\n",
        "  \n",
        "  \n",
        "\n",
        "\n",
        "\n"
      ]
    },
    {
      "cell_type": "markdown",
      "metadata": {
        "id": "YtiLK_6-XsFO"
      },
      "source": [
        "**Q3. Write a function called \"reverse_string\" that takes a string as input and returns the reverse of the input string.**"
      ]
    },
    {
      "cell_type": "code",
      "execution_count": null,
      "metadata": {},
      "outputs": [],
      "source": [
        "def reverse_string(int_str):\n",
        "    a=int_str\n",
        "    i=0\n",
        "    while(i!=len(a)):\n",
        "        print(a[len(a)-i-1],end='')\n",
        "        i=i+1\n",
        "\n",
        "a= input(\"Enter a string  :\")\n",
        "reverse_string(a)"
      ]
    },
    {
      "cell_type": "markdown",
      "metadata": {
        "id": "uApbHAIxXsFO"
      },
      "source": [
        "**Q4. Write a program to calculate the sum of all the even numbers between 1 and 100 which are not divisible by 5 and 7 using a for-loop**"
      ]
    },
    {
      "cell_type": "code",
      "execution_count": 18,
      "metadata": {
        "id": "R4P389cjXsFO"
      },
      "outputs": [
        {
          "data": {
            "text/plain": [
              "4845"
            ]
          },
          "execution_count": 18,
          "metadata": {},
          "output_type": "execute_result"
        }
      ],
      "source": [
        "import numpy as np\n",
        "i=np.arange(100)\n",
        "k=[]\n",
        "for j in i:\n",
        "    if(j%7==0 and j%5==0):\n",
        "        k.append(j)\n",
        "m=[item for item in i if item not in k]\n",
        "ans=0\n",
        "for j in m:\n",
        "    ans=ans+j\n",
        "ans\n",
        "\n"
      ]
    },
    {
      "cell_type": "markdown",
      "metadata": {
        "id": "c4t97kfpXsFP"
      },
      "source": [
        "**Q5. Create a dictionary with the following key-value pairs: \"name\" - \"John\", \"age\" - 25, \"city\" - \"New York\". Write a program that prints out the keys and values of the dictionary.**"
      ]
    },
    {
      "cell_type": "code",
      "execution_count": 27,
      "metadata": {
        "id": "NUoZJxZRXsFP"
      },
      "outputs": [
        {
          "data": {
            "text/plain": [
              "{'Name': 'John', 'Age': '25', 'City': 'New York'}"
            ]
          },
          "execution_count": 27,
          "metadata": {},
          "output_type": "execute_result"
        }
      ],
      "source": [
        "dic={\"Name\":\"John\",\n",
        "     \"Age\":\"25\",\n",
        "     \"City\":\"New York\"\n",
        "    }\n",
        "dic"
      ]
    },
    {
      "cell_type": "markdown",
      "metadata": {
        "id": "1HVhQ2Q-XsFP"
      },
      "source": [
        "**Q6. Write a function that takes a list of numbers as input and returns the second largest number in the list, without using any built-in sorting functions or the max() function.**"
      ]
    },
    {
      "cell_type": "code",
      "execution_count": 1,
      "metadata": {
        "id": "LQTabMTrXsFQ"
      },
      "outputs": [],
      "source": [
        "def _sort(a):\n",
        "  n = len(a)\n",
        "  i=0\n",
        "  while(i<n):\n",
        "    for j in range(0, n - i - 1):\n",
        "      if a[j] > a[j + 1]:\n",
        "       m=a[j]\n",
        "       a[j+1]=a[j]\n",
        "       a[j]=m\n",
        "       i=i+1\n",
        "\n",
        "  return a\n",
        "\n",
        "lis = [23, 30, 45, 5, 67, 2, 82, 12, 78, 90]\n",
        "a = _sort(lis.copy()) \n",
        "print(a[-2])\n",
        "    "
      ]
    },
    {
      "cell_type": "markdown",
      "metadata": {
        "id": "MbvsDuzLano5"
      },
      "source": [
        "# **NumPy**\n",
        "In this assignment, you will be familiarized with the usage of the NumPy library and how to use vectorization to speed up computations in comparision to iterative approaches.\n",
        "\n",
        "You are to only write/modify the code in between consecutive `# < START >` and `# < END >` comments. DO NOT modify other parts of the notebook, your assignments will not be graded otherwise.\n",
        "```python\n",
        "\"Don't modify any code here\"\n",
        "\n",
        "# < START >\n",
        "\"YOUR CODE GOES HERE!\"\n",
        "# < END >\n",
        "\n",
        "\"Don't modify any code here\"\n",
        "```\n",
        "\n",
        "<!---Need to include clarification about arrays?-->\n",
        "\n",
        "**Start by running the below cell, to import the NumPy library.**"
      ]
    },
    {
      "cell_type": "code",
      "execution_count": 2,
      "metadata": {
        "id": "GHqaQIZwaqrb"
      },
      "outputs": [],
      "source": [
        "import numpy as np"
      ]
    },
    {
      "cell_type": "markdown",
      "metadata": {
        "id": "7_q9CV0oqiQE"
      },
      "source": [
        "### **Initializating Arrays**\n",
        "NumPy offers multiple methods to create and populate arrays\n",
        "- Create a $2\\times3$ array identical to\n",
        "$\\begin{bmatrix}\n",
        "1 & 2 & 4\\\\\n",
        "7 & 13 & 21\\\\\n",
        "\\end{bmatrix}$, and assign it to a variable `arr`.  "
      ]
    },
    {
      "cell_type": "code",
      "execution_count": 7,
      "metadata": {
        "id": "DOSodBqMsPFx"
      },
      "outputs": [
        {
          "name": "stdout",
          "output_type": "stream",
          "text": [
            "[[ 1  2  4]\n",
            " [ 7 13 21]]\n",
            "Shape: (2, 3)\n"
          ]
        }
      ],
      "source": [
        "# < START >\n",
        "arr=[[1,2,4],\n",
        "     [7,13,21]]\n",
        "arr=np.array(arr)\n",
        "# < END >\n",
        "\n",
        "print(arr)\n",
        "print(\"Shape:\", arr.shape)"
      ]
    },
    {
      "cell_type": "markdown",
      "metadata": {
        "id": "ow7eYNN0uqOc"
      },
      "source": [
        "You should be able to see that the `shape` property of an array lets you access its dimensions.  \n",
        "For us, this is a handy way to ensure that the dimensions of an array are what we expect, allowing us to easily debug programs."
      ]
    },
    {
      "cell_type": "markdown",
      "metadata": {
        "id": "3sRFnmJrWY0S"
      },
      "source": [
        "- Initialize a NumPy array `x` of dimensions $2\\times3$ with random values.  \n",
        "Do not use the values of the dimensions directly, instead use the variables provided as arguments.\n",
        "<details>\n",
        "  <summary>Hint</summary>\n",
        "  <a href=\"https://numpy.org/doc/stable/reference/random/generated/numpy.random.randn.html#numpy-random-randn\">np.random.randn()</a>\n",
        "</details>"
      ]
    },
    {
      "cell_type": "code",
      "execution_count": 6,
      "metadata": {
        "id": "VVrePkvxW2K9"
      },
      "outputs": [
        {
          "name": "stdout",
          "output_type": "stream",
          "text": [
            "[[0.89495938 0.95752561 0.3312629 ]\n",
            " [0.26662516 0.90545232 0.43864651]]\n"
          ]
        }
      ],
      "source": [
        "\n",
        "n_rows = 2\n",
        "n_columns = 3\n",
        "\n",
        "# <START>\n",
        "x=np.random.rand(n_rows ,n_columns)\n",
        "# <END>\n",
        "\n",
        "print(x)"
      ]
    },
    {
      "cell_type": "markdown",
      "metadata": {
        "id": "j7XlM8Bwchhm"
      },
      "source": [
        "A few more basic methods to initialize arrays exist.\n",
        "Feel free to read up online to complete the code snippets."
      ]
    },
    {
      "cell_type": "code",
      "execution_count": 9,
      "metadata": {
        "id": "hG59Eh_edKNy"
      },
      "outputs": [
        {
          "name": "stdout",
          "output_type": "stream",
          "text": [
            "[[[0. 0.]\n",
            "  [0. 0.]\n",
            "  [0. 0.]\n",
            "  [0. 0.]\n",
            "  [0. 0.]]\n",
            "\n",
            " [[0. 0.]\n",
            "  [0. 0.]\n",
            "  [0. 0.]\n",
            "  [0. 0.]\n",
            "  [0. 0.]]\n",
            "\n",
            " [[0. 0.]\n",
            "  [0. 0.]\n",
            "  [0. 0.]\n",
            "  [0. 0.]\n",
            "  [0. 0.]]\n",
            "\n",
            " [[0. 0.]\n",
            "  [0. 0.]\n",
            "  [0. 0.]\n",
            "  [0. 0.]\n",
            "  [0. 0.]]]\n",
            "[[[1. 1.]\n",
            "  [1. 1.]\n",
            "  [1. 1.]\n",
            "  [1. 1.]\n",
            "  [1. 1.]]\n",
            "\n",
            " [[1. 1.]\n",
            "  [1. 1.]\n",
            "  [1. 1.]\n",
            "  [1. 1.]\n",
            "  [1. 1.]]\n",
            "\n",
            " [[1. 1.]\n",
            "  [1. 1.]\n",
            "  [1. 1.]\n",
            "  [1. 1.]\n",
            "  [1. 1.]]\n",
            "\n",
            " [[1. 1.]\n",
            "  [1. 1.]\n",
            "  [1. 1.]\n",
            "  [1. 1.]\n",
            "  [1. 1.]]]\n"
          ]
        }
      ],
      "source": [
        "# < START >\n",
        "# Initialize an array ZERO_ARR of dimensions (4, 5, 2) whose every element is 0\n",
        "ZERO_ARR=np.zeros((4,5,2))\n",
        "\n",
        "# < END >\n",
        "\n",
        "print(ZERO_ARR)\n",
        "\n",
        "# < START >\n",
        "# Initialize an array ONE_ARR of dimensions (4, 5, 2) whose every element is 1\n",
        "ONE_ARR=np.ones((4,5,2))\n",
        "# < END >\n",
        "\n",
        "print(ONE_ARR)"
      ]
    },
    {
      "cell_type": "markdown",
      "metadata": {
        "id": "19eX-3suIKcF"
      },
      "source": [
        "You can also transpose arrays (same as with matrices), but a more general and commonly used function is the `array.reshape()` function.\n",
        "\n",
        "$$\n",
        "\\begin{bmatrix}\n",
        "a & d\\\\\n",
        "b & e\\\\\n",
        "c & f\\\\\n",
        "\\end{bmatrix}\n",
        "\\xleftarrow{\\text{.T}}\n",
        "\\begin{bmatrix}\n",
        "a & b & c\\\\\n",
        "d & e & f\\\\\n",
        "\\end{bmatrix}\n",
        "\\xrightarrow{\\text{.reshape(3, 2)}}\n",
        "\\begin{bmatrix}\n",
        "a & b\\\\\n",
        "c & d\\\\\n",
        "e & f\\\\\n",
        "\\end{bmatrix}\n",
        "\\xrightarrow{\\text{.reshape(6,1)}}\n",
        "\\begin{bmatrix}\n",
        "a\\\\b\\\\c\\\\d\\\\e\\\\f\\\\\n",
        "\\end{bmatrix}\n",
        "$$\n",
        "`reshape` is commonly used to flatten data stored in multi-dimensional arrays (ex: a 2D array representing a B/W image)\n",
        "\n",
        "- Try it out yourself:"
      ]
    },
    {
      "cell_type": "code",
      "execution_count": 3,
      "metadata": {
        "id": "72poNlj4H4dv"
      },
      "outputs": [
        {
          "name": "stdout",
          "output_type": "stream",
          "text": [
            "[[1 4]\n",
            " [2 5]\n",
            " [3 6]]\n",
            "[[1]\n",
            " [2]\n",
            " [3]\n",
            " [4]\n",
            " [5]\n",
            " [6]]\n"
          ]
        }
      ],
      "source": [
        "y1 = np.array([[1, 2, 3],\n",
        "              [4, 5, 6]])\n",
        "\n",
        "# < START >\n",
        "# Create a new array y_transpose that is the transpose of matrix y\n",
        "y_transpose=y1.T\n",
        "\n",
        "# < END >\n",
        "\n",
        "print(y_transpose)\n",
        "\n",
        "# < START >\n",
        "# Create a new array y_flat that contains the same elements as y but has been flattened to a column array\n",
        "y_col=y1.reshape(-1)\n",
        "y_flat=y_col.reshape((6,1))\n",
        "\n",
        "# < END >\n",
        "\n",
        "print(y_flat)"
      ]
    },
    {
      "cell_type": "markdown",
      "metadata": {
        "id": "OmHhW0gtXn4C"
      },
      "source": [
        "- Create a `y` with dimensions $3\\times1$ (column matrix), with elements $4,7$ and $11$.  \n",
        "$$y = \\begin{bmatrix}\n",
        "4\\\\\n",
        "7\\\\\n",
        "11\n",
        "\\end{bmatrix}$$  "
      ]
    },
    {
      "cell_type": "code",
      "execution_count": 4,
      "metadata": {
        "id": "_OB_fi7zW57S"
      },
      "outputs": [
        {
          "name": "stdout",
          "output_type": "stream",
          "text": [
            "[[ 4]\n",
            " [ 7]\n",
            " [11]]\n",
            "[[ 51]\n",
            " [117]]\n"
          ]
        }
      ],
      "source": [
        "# <START>\n",
        "# Initialize the column matrix here\n",
        "y=np.array([[4],\n",
        "   [7],\n",
        "   [11]])\n",
        "\n",
        "# <END>\n",
        "\n",
        "assert y.shape == (3, 1)\n",
        "# The above line is an assert statement, which halts the program if the given condition evaluates to False.\n",
        "# Assert statements are frequently used in neural network programs to ensure our matrices are of the right dimensions.\n",
        "\n",
        "print(y)\n",
        "\n",
        "# <START>\n",
        "# Multiply both the arrays here\n",
        "z=np.dot(y1,y)\n",
        "# <END>\n",
        "\n",
        "assert z.shape == (2, 1)\n",
        "\n",
        "print(z)"
      ]
    },
    {
      "cell_type": "markdown",
      "metadata": {
        "id": "qQBkm2K9eMiu"
      },
      "source": [
        "### **Indexing & Slicing**\n",
        "Just like with normal arrays, you can access an element at the `(i,j)` position using `array[i][j]`.  \n",
        "However, NumPy allows you to do the same using `array[i, j]`, and this form is more efficient and simpler to use.\n",
        "<details>\n",
        "<summary><i>(Optional) Why is it more efficient?</i></summary>\n",
        "The former case is more inefficient as a new temporary array is created after the first index i, that is then indexed by j.\n",
        "</details>\n",
        "\n",
        "```python\n",
        "x = np.array([[1,3,5],[4,7,11],[5,10,20]])\n",
        "\n",
        "x[1][2] #11\n",
        "x[1,2]  #11 <-- Prefer this\n",
        "```"
      ]
    },
    {
      "cell_type": "markdown",
      "metadata": {
        "id": "ptZtfq3dUE25"
      },
      "source": [
        "Slicing is another important feature of NumPy arrays. The syntax is the same as that of slicing in Python lists.\n",
        "  We pass the slice as\n",
        "\n",
        "```python\n",
        "  sliced_array = array[start:end:step]\n",
        "  # The second colon (:) is only needed\n",
        "  # if you want to use a step other than 1\n",
        "```\n",
        "By default, `start` is 0, `end` is the array length (in that dimension), and `step` is 1.\n",
        "Remember that `end` is not included in the slice.\n",
        "\n",
        "  Implement array slicing as instructed in the following examples\n",
        "\n"
      ]
    },
    {
      "cell_type": "code",
      "execution_count": 12,
      "metadata": {
        "id": "Rb3_CEkYVHRV"
      },
      "outputs": [
        {
          "name": "stdout",
          "output_type": "stream",
          "text": [
            "[1 5 6]\n",
            "[1 3 5 7 9]\n"
          ]
        }
      ],
      "source": [
        "import numpy as np\n",
        "x = np.array([4, 1, 5, 6, 11])\n",
        "\n",
        "# <START>\n",
        "# Create a new array y with the middle 3 elements of x\n",
        "y=x[1:4:1]\n",
        "# <END>\n",
        "\n",
        "print(y)\n",
        "\n",
        "z = np.array([1, 2, 3, 4, 5, 6, 7, 8, 9, 10])\n",
        "\n",
        "# <START>\n",
        "# Create a new array w with alternating elements of z\n",
        "w=z[0: :2]\n",
        "\n",
        "# <END>\n",
        "\n",
        "print(w)"
      ]
    },
    {
      "cell_type": "markdown",
      "metadata": {
        "id": "MeHuSp4YHjpT"
      },
      "source": [
        "A combination of indexing and slicing can be used to access rows, columns and sub-arrays of 2D arrays.\n",
        "\n",
        "```python\n",
        "arr = np.array([\n",
        "          [1, 2, 3],\n",
        "          [4, 5, 6],\n",
        "          [7, 8, 9]])\n",
        "\n",
        "print(arr[0])       #[1 2 3]\n",
        "print(arr[:,2])     #[3 6 9]\n",
        "print(arr[0:2,0:2]) #[[1 2]\n",
        "                    # [4 5]]\n",
        "```"
      ]
    },
    {
      "cell_type": "code",
      "execution_count": 13,
      "metadata": {
        "id": "mvrmhMiUHjMm"
      },
      "outputs": [
        {
          "name": "stdout",
          "output_type": "stream",
          "text": [
            "[[5 2]\n",
            " [7 9]\n",
            " [4 5]]\n"
          ]
        }
      ],
      "source": [
        "arr_2d = np.array([[4, 5, 2],\n",
        "          [3, 7, 9],\n",
        "          [1, 4, 5],\n",
        "          [6, 6, 1]])\n",
        "\n",
        "# <START>\n",
        "# Create a 2D array sliced_arr_2d that is of the form [[5, 2], [7, 9], [4, 5]]\n",
        "sliced_arr_2d=arr_2d[0:3,1:3]\n",
        "\n",
        "# <END>\n",
        "\n",
        "print(sliced_arr_2d)"
      ]
    },
    {
      "cell_type": "markdown",
      "metadata": {
        "id": "3wusjBpUZ4YM"
      },
      "source": [
        "### **Broadcasting**\n",
        "\n",
        "This feature allows for flexibility in array operations. It lets us implement highly efficient algorithms with minimal use of memory."
      ]
    },
    {
      "cell_type": "code",
      "execution_count": 14,
      "metadata": {
        "id": "JMYM8LIYbKdV"
      },
      "outputs": [
        {
          "name": "stdout",
          "output_type": "stream",
          "text": [
            "[2 3 4 5]\n",
            "[[ 4  8 12]\n",
            " [20 25 30]]\n"
          ]
        }
      ],
      "source": [
        "arr1 = np.array([1, 2, 3, 4])\n",
        "b = 1\n",
        "\n",
        "# <START>\n",
        "# Implement broadcasting to add b to each element of arr1\n",
        "arr1=arr1+b\n",
        "\n",
        "# <END>\n",
        "\n",
        "print(arr1)\n",
        "\n",
        "arr2 = np.array([[1, 2, 3],\n",
        "                 [4, 5, 6]])\n",
        "arr3 = np.array([[4],\n",
        "                 [5]])\n",
        "\n",
        "# <START>\n",
        "# Multiply each element of the first row of arr2 by 4 and each element of the second row by 5, using only arr2 and arr3\n",
        "arr2=arr2*arr3\n",
        "# <END>\n",
        "\n",
        "print(arr2)"
      ]
    },
    {
      "cell_type": "markdown",
      "metadata": {
        "id": "ZKz_znd7WfhP"
      },
      "source": [
        "### **Vectorization**\n",
        "\n",
        "From what we've covered so far, it might not be clear as to why we need to use vectorization. To understand this, let's compare the execution times of a non-vectorized program and a vectorized one.\n",
        "\n",
        "Your goal is to multiply each element of the 2D arrays by 3. Implement this using both non-vectorized and vectorized approaches."
      ]
    },
    {
      "cell_type": "code",
      "execution_count": 15,
      "metadata": {
        "id": "RheVdAh4WyA1"
      },
      "outputs": [
        {
          "name": "stdout",
          "output_type": "stream",
          "text": [
            "Time taken in non-vectorized approach: 5.872964859008789 ms\n",
            "Time taken in vectorized approach: 8.59975814819336 ms\n"
          ]
        }
      ],
      "source": [
        "import time\n",
        "\n",
        "arr_nonvectorized = np.random.rand(1000, 1000)\n",
        "arr_vectorized = np.array(arr_nonvectorized) # making a deep copy of the array\n",
        "\n",
        "start_nv = time.time()\n",
        "\n",
        "# Non-vectorized approach\n",
        "# <START>\n",
        "arr_nonvectorized=arr_nonvectorized*3\n",
        "\n",
        "\n",
        "# <END>\n",
        "\n",
        "end_nv = time.time()\n",
        "print(\"Time taken in non-vectorized approach:\", 1000*(end_nv-start_nv), \"ms\")\n",
        "\n",
        "# uncomment and execute the below line to convince yourself that both approaches are doing the same thing\n",
        "# print(arr_nonvectorized)\n",
        "\n",
        "start_v = time.time()\n",
        "\n",
        "# Vectorized approach\n",
        "# <START>\n",
        "arr_vectorized=arr_vectorized*3\n",
        "# <END>\n",
        "\n",
        "end_v = time.time()\n",
        "print(\"Time taken in vectorized approach:\", 1000*(end_v-start_v), \"ms\")\n",
        "\n",
        "# uncomment and execute the below line to convince yourself that both approaches are doing the same thing\n",
        "# print(arr_vectorized)"
      ]
    },
    {
      "cell_type": "markdown",
      "metadata": {
        "id": "W2FkvxAsbyzc"
      },
      "source": [
        "Try playing around with the dimensions of the array. You'll find that there isn't much difference in the execution times when the dimensions are small. But in neural networks, we often deal with very large datasets and so vectorization is a very important tool."
      ]
    },
    {
      "cell_type": "markdown",
      "metadata": {
        "id": "DBlRPY0XkuhF"
      },
      "source": [
        "# **Pandas**"
      ]
    },
    {
      "cell_type": "markdown",
      "metadata": {
        "id": "WGrOQ8MGkuhG"
      },
      "source": [
        "This section will help you get familiar with various functions of pandas and how to use them.\n",
        "\n",
        "As you go through this section, you will find a ??? in certain places. To complete this section, you must replace all the ??? with appropriate values, expressions or statements to ensure that the notebook runs properly end-to-end"
      ]
    },
    {
      "cell_type": "markdown",
      "metadata": {
        "id": "0ky8jz6vkuhG"
      },
      "source": [
        "\n",
        "Let's start by importing the pandas library"
      ]
    },
    {
      "cell_type": "code",
      "execution_count": 16,
      "metadata": {
        "id": "F_P2upkdkuhG"
      },
      "outputs": [
        {
          "name": "stderr",
          "output_type": "stream",
          "text": [
            "C:\\Users\\nasir\\AppData\\Local\\Temp\\ipykernel_15408\\4080736814.py:1: DeprecationWarning: \n",
            "Pyarrow will become a required dependency of pandas in the next major release of pandas (pandas 3.0),\n",
            "(to allow more performant data types, such as the Arrow string type, and better interoperability with other libraries)\n",
            "but was not found to be installed on your system.\n",
            "If this would cause problems for you,\n",
            "please provide us feedback at https://github.com/pandas-dev/pandas/issues/54466\n",
            "        \n",
            "  import pandas as pd\n"
          ]
        }
      ],
      "source": [
        "import pandas as pd"
      ]
    },
    {
      "cell_type": "markdown",
      "metadata": {
        "id": "KIOM97IwkuhG"
      },
      "source": [
        "### **Loading data using url**"
      ]
    },
    {
      "cell_type": "code",
      "execution_count": 17,
      "metadata": {
        "id": "saHzZC87kuhH"
      },
      "outputs": [
        {
          "data": {
            "text/html": [
              "<div>\n",
              "<style scoped>\n",
              "    .dataframe tbody tr th:only-of-type {\n",
              "        vertical-align: middle;\n",
              "    }\n",
              "\n",
              "    .dataframe tbody tr th {\n",
              "        vertical-align: top;\n",
              "    }\n",
              "\n",
              "    .dataframe thead th {\n",
              "        text-align: right;\n",
              "    }\n",
              "</style>\n",
              "<table border=\"1\" class=\"dataframe\">\n",
              "  <thead>\n",
              "    <tr style=\"text-align: right;\">\n",
              "      <th></th>\n",
              "      <th>Country</th>\n",
              "      <th>Region</th>\n",
              "      <th>Population</th>\n",
              "      <th>GDP ($ per capita)</th>\n",
              "      <th>Literacy (%)</th>\n",
              "      <th>Climate</th>\n",
              "    </tr>\n",
              "  </thead>\n",
              "  <tbody>\n",
              "    <tr>\n",
              "      <th>0</th>\n",
              "      <td>Afghanistan</td>\n",
              "      <td>ASIA (EX. NEAR EAST)</td>\n",
              "      <td>31056997</td>\n",
              "      <td>700.0</td>\n",
              "      <td>36.0</td>\n",
              "      <td>1.0</td>\n",
              "    </tr>\n",
              "    <tr>\n",
              "      <th>1</th>\n",
              "      <td>Albania</td>\n",
              "      <td>EASTERN EUROPE</td>\n",
              "      <td>3581655</td>\n",
              "      <td>4500.0</td>\n",
              "      <td>86.5</td>\n",
              "      <td>3.0</td>\n",
              "    </tr>\n",
              "    <tr>\n",
              "      <th>2</th>\n",
              "      <td>Algeria</td>\n",
              "      <td>NORTHERN AFRICA</td>\n",
              "      <td>32930091</td>\n",
              "      <td>6000.0</td>\n",
              "      <td>70.0</td>\n",
              "      <td>1.0</td>\n",
              "    </tr>\n",
              "    <tr>\n",
              "      <th>3</th>\n",
              "      <td>American Samoa</td>\n",
              "      <td>OCEANIA</td>\n",
              "      <td>57794</td>\n",
              "      <td>8000.0</td>\n",
              "      <td>97.0</td>\n",
              "      <td>2.0</td>\n",
              "    </tr>\n",
              "    <tr>\n",
              "      <th>4</th>\n",
              "      <td>Andorra</td>\n",
              "      <td>WESTERN EUROPE</td>\n",
              "      <td>71201</td>\n",
              "      <td>19000.0</td>\n",
              "      <td>100.0</td>\n",
              "      <td>3.0</td>\n",
              "    </tr>\n",
              "    <tr>\n",
              "      <th>...</th>\n",
              "      <td>...</td>\n",
              "      <td>...</td>\n",
              "      <td>...</td>\n",
              "      <td>...</td>\n",
              "      <td>...</td>\n",
              "      <td>...</td>\n",
              "    </tr>\n",
              "    <tr>\n",
              "      <th>222</th>\n",
              "      <td>West Bank</td>\n",
              "      <td>NEAR EAST</td>\n",
              "      <td>2460492</td>\n",
              "      <td>800.0</td>\n",
              "      <td>NaN</td>\n",
              "      <td>3.0</td>\n",
              "    </tr>\n",
              "    <tr>\n",
              "      <th>223</th>\n",
              "      <td>Western Sahara</td>\n",
              "      <td>NORTHERN AFRICA</td>\n",
              "      <td>273008</td>\n",
              "      <td>NaN</td>\n",
              "      <td>NaN</td>\n",
              "      <td>1.0</td>\n",
              "    </tr>\n",
              "    <tr>\n",
              "      <th>224</th>\n",
              "      <td>Yemen</td>\n",
              "      <td>NEAR EAST</td>\n",
              "      <td>21456188</td>\n",
              "      <td>800.0</td>\n",
              "      <td>50.2</td>\n",
              "      <td>1.0</td>\n",
              "    </tr>\n",
              "    <tr>\n",
              "      <th>225</th>\n",
              "      <td>Zambia</td>\n",
              "      <td>SUB-SAHARAN AFRICA</td>\n",
              "      <td>11502010</td>\n",
              "      <td>800.0</td>\n",
              "      <td>80.6</td>\n",
              "      <td>2.0</td>\n",
              "    </tr>\n",
              "    <tr>\n",
              "      <th>226</th>\n",
              "      <td>Zimbabwe</td>\n",
              "      <td>SUB-SAHARAN AFRICA</td>\n",
              "      <td>12236805</td>\n",
              "      <td>1900.0</td>\n",
              "      <td>90.7</td>\n",
              "      <td>2.0</td>\n",
              "    </tr>\n",
              "  </tbody>\n",
              "</table>\n",
              "<p>227 rows × 6 columns</p>\n",
              "</div>"
            ],
            "text/plain": [
              "             Country                               Region  Population  \\\n",
              "0       Afghanistan         ASIA (EX. NEAR EAST)             31056997   \n",
              "1           Albania   EASTERN EUROPE                          3581655   \n",
              "2           Algeria   NORTHERN AFRICA                        32930091   \n",
              "3    American Samoa   OCEANIA                                   57794   \n",
              "4           Andorra   WESTERN EUROPE                            71201   \n",
              "..               ...                                  ...         ...   \n",
              "222       West Bank   NEAR EAST                               2460492   \n",
              "223  Western Sahara   NORTHERN AFRICA                          273008   \n",
              "224           Yemen   NEAR EAST                              21456188   \n",
              "225          Zambia   SUB-SAHARAN AFRICA                     11502010   \n",
              "226        Zimbabwe   SUB-SAHARAN AFRICA                     12236805   \n",
              "\n",
              "     GDP ($ per capita)  Literacy (%)  Climate  \n",
              "0                 700.0          36.0      1.0  \n",
              "1                4500.0          86.5      3.0  \n",
              "2                6000.0          70.0      1.0  \n",
              "3                8000.0          97.0      2.0  \n",
              "4               19000.0         100.0      3.0  \n",
              "..                  ...           ...      ...  \n",
              "222               800.0           NaN      3.0  \n",
              "223                 NaN           NaN      1.0  \n",
              "224               800.0          50.2      1.0  \n",
              "225               800.0          80.6      2.0  \n",
              "226              1900.0          90.7      2.0  \n",
              "\n",
              "[227 rows x 6 columns]"
            ]
          },
          "execution_count": 17,
          "metadata": {},
          "output_type": "execute_result"
        }
      ],
      "source": [
        "url = \"https://raw.githubusercontent.com/Mehul-Agrawal410/SpeakSpeare/main/Week%201/countries.csv\"\n",
        "\n",
        "df = pd.read_csv(url)\n",
        "df"
      ]
    },
    {
      "cell_type": "markdown",
      "metadata": {
        "id": "IZpC6x78kuhH"
      },
      "source": [
        "*(Optional)*: You can rename the columns for your convenience later on. Look up the syntax for renaming columns"
      ]
    },
    {
      "cell_type": "code",
      "execution_count": 18,
      "metadata": {
        "id": "_O2mUQC5kuhH"
      },
      "outputs": [
        {
          "data": {
            "text/html": [
              "<div>\n",
              "<style scoped>\n",
              "    .dataframe tbody tr th:only-of-type {\n",
              "        vertical-align: middle;\n",
              "    }\n",
              "\n",
              "    .dataframe tbody tr th {\n",
              "        vertical-align: top;\n",
              "    }\n",
              "\n",
              "    .dataframe thead th {\n",
              "        text-align: right;\n",
              "    }\n",
              "</style>\n",
              "<table border=\"1\" class=\"dataframe\">\n",
              "  <thead>\n",
              "    <tr style=\"text-align: right;\">\n",
              "      <th></th>\n",
              "      <th>Country_Name</th>\n",
              "      <th>Region_Name</th>\n",
              "      <th>Total_Population</th>\n",
              "      <th>Total_GDP ($ per capita)</th>\n",
              "      <th>Literacy_rate (%)</th>\n",
              "      <th>Climate_update</th>\n",
              "    </tr>\n",
              "  </thead>\n",
              "  <tbody>\n",
              "    <tr>\n",
              "      <th>0</th>\n",
              "      <td>Afghanistan</td>\n",
              "      <td>ASIA (EX. NEAR EAST)</td>\n",
              "      <td>31056997</td>\n",
              "      <td>700.0</td>\n",
              "      <td>36.0</td>\n",
              "      <td>1.0</td>\n",
              "    </tr>\n",
              "    <tr>\n",
              "      <th>1</th>\n",
              "      <td>Albania</td>\n",
              "      <td>EASTERN EUROPE</td>\n",
              "      <td>3581655</td>\n",
              "      <td>4500.0</td>\n",
              "      <td>86.5</td>\n",
              "      <td>3.0</td>\n",
              "    </tr>\n",
              "    <tr>\n",
              "      <th>2</th>\n",
              "      <td>Algeria</td>\n",
              "      <td>NORTHERN AFRICA</td>\n",
              "      <td>32930091</td>\n",
              "      <td>6000.0</td>\n",
              "      <td>70.0</td>\n",
              "      <td>1.0</td>\n",
              "    </tr>\n",
              "    <tr>\n",
              "      <th>3</th>\n",
              "      <td>American Samoa</td>\n",
              "      <td>OCEANIA</td>\n",
              "      <td>57794</td>\n",
              "      <td>8000.0</td>\n",
              "      <td>97.0</td>\n",
              "      <td>2.0</td>\n",
              "    </tr>\n",
              "    <tr>\n",
              "      <th>4</th>\n",
              "      <td>Andorra</td>\n",
              "      <td>WESTERN EUROPE</td>\n",
              "      <td>71201</td>\n",
              "      <td>19000.0</td>\n",
              "      <td>100.0</td>\n",
              "      <td>3.0</td>\n",
              "    </tr>\n",
              "    <tr>\n",
              "      <th>...</th>\n",
              "      <td>...</td>\n",
              "      <td>...</td>\n",
              "      <td>...</td>\n",
              "      <td>...</td>\n",
              "      <td>...</td>\n",
              "      <td>...</td>\n",
              "    </tr>\n",
              "    <tr>\n",
              "      <th>222</th>\n",
              "      <td>West Bank</td>\n",
              "      <td>NEAR EAST</td>\n",
              "      <td>2460492</td>\n",
              "      <td>800.0</td>\n",
              "      <td>NaN</td>\n",
              "      <td>3.0</td>\n",
              "    </tr>\n",
              "    <tr>\n",
              "      <th>223</th>\n",
              "      <td>Western Sahara</td>\n",
              "      <td>NORTHERN AFRICA</td>\n",
              "      <td>273008</td>\n",
              "      <td>NaN</td>\n",
              "      <td>NaN</td>\n",
              "      <td>1.0</td>\n",
              "    </tr>\n",
              "    <tr>\n",
              "      <th>224</th>\n",
              "      <td>Yemen</td>\n",
              "      <td>NEAR EAST</td>\n",
              "      <td>21456188</td>\n",
              "      <td>800.0</td>\n",
              "      <td>50.2</td>\n",
              "      <td>1.0</td>\n",
              "    </tr>\n",
              "    <tr>\n",
              "      <th>225</th>\n",
              "      <td>Zambia</td>\n",
              "      <td>SUB-SAHARAN AFRICA</td>\n",
              "      <td>11502010</td>\n",
              "      <td>800.0</td>\n",
              "      <td>80.6</td>\n",
              "      <td>2.0</td>\n",
              "    </tr>\n",
              "    <tr>\n",
              "      <th>226</th>\n",
              "      <td>Zimbabwe</td>\n",
              "      <td>SUB-SAHARAN AFRICA</td>\n",
              "      <td>12236805</td>\n",
              "      <td>1900.0</td>\n",
              "      <td>90.7</td>\n",
              "      <td>2.0</td>\n",
              "    </tr>\n",
              "  </tbody>\n",
              "</table>\n",
              "<p>227 rows × 6 columns</p>\n",
              "</div>"
            ],
            "text/plain": [
              "        Country_Name                          Region_Name  Total_Population  \\\n",
              "0       Afghanistan         ASIA (EX. NEAR EAST)                   31056997   \n",
              "1           Albania   EASTERN EUROPE                                3581655   \n",
              "2           Algeria   NORTHERN AFRICA                              32930091   \n",
              "3    American Samoa   OCEANIA                                         57794   \n",
              "4           Andorra   WESTERN EUROPE                                  71201   \n",
              "..               ...                                  ...               ...   \n",
              "222       West Bank   NEAR EAST                                     2460492   \n",
              "223  Western Sahara   NORTHERN AFRICA                                273008   \n",
              "224           Yemen   NEAR EAST                                    21456188   \n",
              "225          Zambia   SUB-SAHARAN AFRICA                           11502010   \n",
              "226        Zimbabwe   SUB-SAHARAN AFRICA                           12236805   \n",
              "\n",
              "     Total_GDP ($ per capita)  Literacy_rate (%)  Climate_update  \n",
              "0                       700.0               36.0             1.0  \n",
              "1                      4500.0               86.5             3.0  \n",
              "2                      6000.0               70.0             1.0  \n",
              "3                      8000.0               97.0             2.0  \n",
              "4                     19000.0              100.0             3.0  \n",
              "..                        ...                ...             ...  \n",
              "222                     800.0                NaN             3.0  \n",
              "223                       NaN                NaN             1.0  \n",
              "224                     800.0               50.2             1.0  \n",
              "225                     800.0               80.6             2.0  \n",
              "226                    1900.0               90.7             2.0  \n",
              "\n",
              "[227 rows x 6 columns]"
            ]
          },
          "execution_count": 18,
          "metadata": {},
          "output_type": "execute_result"
        }
      ],
      "source": [
        "header=['Country_Name','Region_Name','Total_Population','Total_GDP ($ per capita)','Literacy_rate (%)','Climate_update']\n",
        "df.columns=header\n",
        "df"
      ]
    },
    {
      "cell_type": "markdown",
      "metadata": {
        "id": "tw9SUpdtkuhI"
      },
      "source": [
        "**Q1: How many countries does the dataframe contain?**\n",
        "\n",
        "Hint: Use the `.shape` method."
      ]
    },
    {
      "cell_type": "code",
      "execution_count": 19,
      "metadata": {
        "id": "k6rWIie5kuhI"
      },
      "outputs": [
        {
          "name": "stdout",
          "output_type": "stream",
          "text": [
            "There are 227 countries in the dataset\n"
          ]
        }
      ],
      "source": [
        "\n",
        "num1_countries =df['Country_Name'].shape\n",
        "num_countries=num1_countries[0]\n",
        "print(f'There are {num_countries} countries in the dataset')"
      ]
    },
    {
      "cell_type": "markdown",
      "metadata": {
        "id": "bdYU22SVkuhI"
      },
      "source": [
        "**Q2: Retrieve a list of the Regions from the dataframe?**\n",
        "\n",
        "*Hint: Use the `.unique` method of a series.*"
      ]
    },
    {
      "cell_type": "code",
      "execution_count": 20,
      "metadata": {
        "id": "m4EWf5cckuhJ"
      },
      "outputs": [
        {
          "data": {
            "text/plain": [
              "array(['ASIA (EX. NEAR EAST)         ',\n",
              "       'EASTERN EUROPE                     ',\n",
              "       'NORTHERN AFRICA                    ',\n",
              "       'OCEANIA                            ',\n",
              "       'WESTERN EUROPE                     ',\n",
              "       'SUB-SAHARAN AFRICA                 ', 'LATIN AMER. & CARIB    ',\n",
              "       'C.W. OF IND. STATES ', 'NEAR EAST                          ',\n",
              "       'NORTHERN AMERICA                   ',\n",
              "       'BALTICS                            '], dtype=object)"
            ]
          },
          "execution_count": 20,
          "metadata": {},
          "output_type": "execute_result"
        }
      ],
      "source": [
        "continents =df['Region_Name'].unique()\n",
        "continents"
      ]
    },
    {
      "cell_type": "markdown",
      "metadata": {
        "id": "fgb_wEOtkuhJ"
      },
      "source": [
        "**Q3: What is the total population of all the countries listed in this dataset?**"
      ]
    },
    {
      "cell_type": "code",
      "execution_count": 21,
      "metadata": {
        "id": "zPDlXaYHkuhS"
      },
      "outputs": [
        {
          "name": "stdout",
          "output_type": "stream",
          "text": [
            "The total population is 6524044551.\n"
          ]
        }
      ],
      "source": [
        "total_population =df['Total_Population'].sum()\n",
        "print(f'The total population is {total_population}.')"
      ]
    },
    {
      "cell_type": "markdown",
      "metadata": {
        "id": "jFxZbJGCkuhS"
      },
      "source": [
        "**Q4: Create a dataframe containing 10 countries with the highest population.**\n",
        "\n",
        "*Hint: Chain the `sort_values` and `head` methods.*"
      ]
    },
    {
      "cell_type": "code",
      "execution_count": 22,
      "metadata": {
        "id": "rcq8vPngkuhT"
      },
      "outputs": [
        {
          "data": {
            "text/html": [
              "<div>\n",
              "<style scoped>\n",
              "    .dataframe tbody tr th:only-of-type {\n",
              "        vertical-align: middle;\n",
              "    }\n",
              "\n",
              "    .dataframe tbody tr th {\n",
              "        vertical-align: top;\n",
              "    }\n",
              "\n",
              "    .dataframe thead th {\n",
              "        text-align: right;\n",
              "    }\n",
              "</style>\n",
              "<table border=\"1\" class=\"dataframe\">\n",
              "  <thead>\n",
              "    <tr style=\"text-align: right;\">\n",
              "      <th></th>\n",
              "      <th>Country_Name</th>\n",
              "      <th>Region_Name</th>\n",
              "      <th>Total_Population</th>\n",
              "      <th>Total_GDP ($ per capita)</th>\n",
              "      <th>Literacy_rate (%)</th>\n",
              "      <th>Climate_update</th>\n",
              "    </tr>\n",
              "  </thead>\n",
              "  <tbody>\n",
              "    <tr>\n",
              "      <th>42</th>\n",
              "      <td>China</td>\n",
              "      <td>ASIA (EX. NEAR EAST)</td>\n",
              "      <td>1313973713</td>\n",
              "      <td>5000.0</td>\n",
              "      <td>90.9</td>\n",
              "      <td>1.5</td>\n",
              "    </tr>\n",
              "    <tr>\n",
              "      <th>94</th>\n",
              "      <td>India</td>\n",
              "      <td>ASIA (EX. NEAR EAST)</td>\n",
              "      <td>1095351995</td>\n",
              "      <td>2900.0</td>\n",
              "      <td>59.5</td>\n",
              "      <td>2.5</td>\n",
              "    </tr>\n",
              "    <tr>\n",
              "      <th>214</th>\n",
              "      <td>United States</td>\n",
              "      <td>NORTHERN AMERICA</td>\n",
              "      <td>298444215</td>\n",
              "      <td>37800.0</td>\n",
              "      <td>97.0</td>\n",
              "      <td>3.0</td>\n",
              "    </tr>\n",
              "    <tr>\n",
              "      <th>95</th>\n",
              "      <td>Indonesia</td>\n",
              "      <td>ASIA (EX. NEAR EAST)</td>\n",
              "      <td>245452739</td>\n",
              "      <td>3200.0</td>\n",
              "      <td>87.9</td>\n",
              "      <td>2.0</td>\n",
              "    </tr>\n",
              "    <tr>\n",
              "      <th>27</th>\n",
              "      <td>Brazil</td>\n",
              "      <td>LATIN AMER. &amp; CARIB</td>\n",
              "      <td>188078227</td>\n",
              "      <td>7600.0</td>\n",
              "      <td>86.4</td>\n",
              "      <td>2.0</td>\n",
              "    </tr>\n",
              "    <tr>\n",
              "      <th>156</th>\n",
              "      <td>Pakistan</td>\n",
              "      <td>ASIA (EX. NEAR EAST)</td>\n",
              "      <td>165803560</td>\n",
              "      <td>2100.0</td>\n",
              "      <td>45.7</td>\n",
              "      <td>1.0</td>\n",
              "    </tr>\n",
              "    <tr>\n",
              "      <th>16</th>\n",
              "      <td>Bangladesh</td>\n",
              "      <td>ASIA (EX. NEAR EAST)</td>\n",
              "      <td>147365352</td>\n",
              "      <td>1900.0</td>\n",
              "      <td>43.1</td>\n",
              "      <td>2.0</td>\n",
              "    </tr>\n",
              "    <tr>\n",
              "      <th>169</th>\n",
              "      <td>Russia</td>\n",
              "      <td>C.W. OF IND. STATES</td>\n",
              "      <td>142893540</td>\n",
              "      <td>8900.0</td>\n",
              "      <td>99.6</td>\n",
              "      <td>NaN</td>\n",
              "    </tr>\n",
              "    <tr>\n",
              "      <th>152</th>\n",
              "      <td>Nigeria</td>\n",
              "      <td>SUB-SAHARAN AFRICA</td>\n",
              "      <td>131859731</td>\n",
              "      <td>900.0</td>\n",
              "      <td>68.0</td>\n",
              "      <td>1.5</td>\n",
              "    </tr>\n",
              "    <tr>\n",
              "      <th>103</th>\n",
              "      <td>Japan</td>\n",
              "      <td>ASIA (EX. NEAR EAST)</td>\n",
              "      <td>127463611</td>\n",
              "      <td>28200.0</td>\n",
              "      <td>99.0</td>\n",
              "      <td>3.0</td>\n",
              "    </tr>\n",
              "  </tbody>\n",
              "</table>\n",
              "</div>"
            ],
            "text/plain": [
              "       Country_Name                          Region_Name  Total_Population  \\\n",
              "42           China         ASIA (EX. NEAR EAST)                 1313973713   \n",
              "94           India         ASIA (EX. NEAR EAST)                 1095351995   \n",
              "214  United States   NORTHERN AMERICA                            298444215   \n",
              "95       Indonesia         ASIA (EX. NEAR EAST)                  245452739   \n",
              "27          Brazil               LATIN AMER. & CARIB             188078227   \n",
              "156       Pakistan         ASIA (EX. NEAR EAST)                  165803560   \n",
              "16      Bangladesh         ASIA (EX. NEAR EAST)                  147365352   \n",
              "169         Russia                  C.W. OF IND. STATES          142893540   \n",
              "152        Nigeria   SUB-SAHARAN AFRICA                          131859731   \n",
              "103          Japan         ASIA (EX. NEAR EAST)                  127463611   \n",
              "\n",
              "     Total_GDP ($ per capita)  Literacy_rate (%)  Climate_update  \n",
              "42                     5000.0               90.9             1.5  \n",
              "94                     2900.0               59.5             2.5  \n",
              "214                   37800.0               97.0             3.0  \n",
              "95                     3200.0               87.9             2.0  \n",
              "27                     7600.0               86.4             2.0  \n",
              "156                    2100.0               45.7             1.0  \n",
              "16                     1900.0               43.1             2.0  \n",
              "169                    8900.0               99.6             NaN  \n",
              "152                     900.0               68.0             1.5  \n",
              "103                   28200.0               99.0             3.0  "
            ]
          },
          "execution_count": 22,
          "metadata": {},
          "output_type": "execute_result"
        }
      ],
      "source": [
        "most_populous_df =df.sort_values(by='Total_Population',ascending=False)\n",
        "most_populous_df.head(10)"
      ]
    },
    {
      "cell_type": "markdown",
      "metadata": {
        "id": "rQO-O0k7kuhT"
      },
      "source": [
        "**Q5: Add a new column in `countries_df` to record the overall GDP per country (product of population & per capita GDP).**"
      ]
    },
    {
      "cell_type": "code",
      "execution_count": 23,
      "metadata": {
        "id": "8gmp4riukuhT"
      },
      "outputs": [
        {
          "data": {
            "text/html": [
              "<div>\n",
              "<style scoped>\n",
              "    .dataframe tbody tr th:only-of-type {\n",
              "        vertical-align: middle;\n",
              "    }\n",
              "\n",
              "    .dataframe tbody tr th {\n",
              "        vertical-align: top;\n",
              "    }\n",
              "\n",
              "    .dataframe thead th {\n",
              "        text-align: right;\n",
              "    }\n",
              "</style>\n",
              "<table border=\"1\" class=\"dataframe\">\n",
              "  <thead>\n",
              "    <tr style=\"text-align: right;\">\n",
              "      <th></th>\n",
              "      <th>Country_Name</th>\n",
              "      <th>Region_Name</th>\n",
              "      <th>Total_Population</th>\n",
              "      <th>Total_GDP ($ per capita)</th>\n",
              "      <th>Literacy_rate (%)</th>\n",
              "      <th>Climate_update</th>\n",
              "      <th>gdp</th>\n",
              "    </tr>\n",
              "  </thead>\n",
              "  <tbody>\n",
              "    <tr>\n",
              "      <th>0</th>\n",
              "      <td>Afghanistan</td>\n",
              "      <td>ASIA (EX. NEAR EAST)</td>\n",
              "      <td>31056997</td>\n",
              "      <td>700.0</td>\n",
              "      <td>36.0</td>\n",
              "      <td>1.0</td>\n",
              "      <td>2.173990e+10</td>\n",
              "    </tr>\n",
              "    <tr>\n",
              "      <th>1</th>\n",
              "      <td>Albania</td>\n",
              "      <td>EASTERN EUROPE</td>\n",
              "      <td>3581655</td>\n",
              "      <td>4500.0</td>\n",
              "      <td>86.5</td>\n",
              "      <td>3.0</td>\n",
              "      <td>1.611745e+10</td>\n",
              "    </tr>\n",
              "    <tr>\n",
              "      <th>2</th>\n",
              "      <td>Algeria</td>\n",
              "      <td>NORTHERN AFRICA</td>\n",
              "      <td>32930091</td>\n",
              "      <td>6000.0</td>\n",
              "      <td>70.0</td>\n",
              "      <td>1.0</td>\n",
              "      <td>1.975805e+11</td>\n",
              "    </tr>\n",
              "    <tr>\n",
              "      <th>3</th>\n",
              "      <td>American Samoa</td>\n",
              "      <td>OCEANIA</td>\n",
              "      <td>57794</td>\n",
              "      <td>8000.0</td>\n",
              "      <td>97.0</td>\n",
              "      <td>2.0</td>\n",
              "      <td>4.623520e+08</td>\n",
              "    </tr>\n",
              "    <tr>\n",
              "      <th>4</th>\n",
              "      <td>Andorra</td>\n",
              "      <td>WESTERN EUROPE</td>\n",
              "      <td>71201</td>\n",
              "      <td>19000.0</td>\n",
              "      <td>100.0</td>\n",
              "      <td>3.0</td>\n",
              "      <td>1.352819e+09</td>\n",
              "    </tr>\n",
              "    <tr>\n",
              "      <th>...</th>\n",
              "      <td>...</td>\n",
              "      <td>...</td>\n",
              "      <td>...</td>\n",
              "      <td>...</td>\n",
              "      <td>...</td>\n",
              "      <td>...</td>\n",
              "      <td>...</td>\n",
              "    </tr>\n",
              "    <tr>\n",
              "      <th>222</th>\n",
              "      <td>West Bank</td>\n",
              "      <td>NEAR EAST</td>\n",
              "      <td>2460492</td>\n",
              "      <td>800.0</td>\n",
              "      <td>NaN</td>\n",
              "      <td>3.0</td>\n",
              "      <td>1.968394e+09</td>\n",
              "    </tr>\n",
              "    <tr>\n",
              "      <th>223</th>\n",
              "      <td>Western Sahara</td>\n",
              "      <td>NORTHERN AFRICA</td>\n",
              "      <td>273008</td>\n",
              "      <td>NaN</td>\n",
              "      <td>NaN</td>\n",
              "      <td>1.0</td>\n",
              "      <td>NaN</td>\n",
              "    </tr>\n",
              "    <tr>\n",
              "      <th>224</th>\n",
              "      <td>Yemen</td>\n",
              "      <td>NEAR EAST</td>\n",
              "      <td>21456188</td>\n",
              "      <td>800.0</td>\n",
              "      <td>50.2</td>\n",
              "      <td>1.0</td>\n",
              "      <td>1.716495e+10</td>\n",
              "    </tr>\n",
              "    <tr>\n",
              "      <th>225</th>\n",
              "      <td>Zambia</td>\n",
              "      <td>SUB-SAHARAN AFRICA</td>\n",
              "      <td>11502010</td>\n",
              "      <td>800.0</td>\n",
              "      <td>80.6</td>\n",
              "      <td>2.0</td>\n",
              "      <td>9.201608e+09</td>\n",
              "    </tr>\n",
              "    <tr>\n",
              "      <th>226</th>\n",
              "      <td>Zimbabwe</td>\n",
              "      <td>SUB-SAHARAN AFRICA</td>\n",
              "      <td>12236805</td>\n",
              "      <td>1900.0</td>\n",
              "      <td>90.7</td>\n",
              "      <td>2.0</td>\n",
              "      <td>2.324993e+10</td>\n",
              "    </tr>\n",
              "  </tbody>\n",
              "</table>\n",
              "<p>227 rows × 7 columns</p>\n",
              "</div>"
            ],
            "text/plain": [
              "        Country_Name                          Region_Name  Total_Population  \\\n",
              "0       Afghanistan         ASIA (EX. NEAR EAST)                   31056997   \n",
              "1           Albania   EASTERN EUROPE                                3581655   \n",
              "2           Algeria   NORTHERN AFRICA                              32930091   \n",
              "3    American Samoa   OCEANIA                                         57794   \n",
              "4           Andorra   WESTERN EUROPE                                  71201   \n",
              "..               ...                                  ...               ...   \n",
              "222       West Bank   NEAR EAST                                     2460492   \n",
              "223  Western Sahara   NORTHERN AFRICA                                273008   \n",
              "224           Yemen   NEAR EAST                                    21456188   \n",
              "225          Zambia   SUB-SAHARAN AFRICA                           11502010   \n",
              "226        Zimbabwe   SUB-SAHARAN AFRICA                           12236805   \n",
              "\n",
              "     Total_GDP ($ per capita)  Literacy_rate (%)  Climate_update           gdp  \n",
              "0                       700.0               36.0             1.0  2.173990e+10  \n",
              "1                      4500.0               86.5             3.0  1.611745e+10  \n",
              "2                      6000.0               70.0             1.0  1.975805e+11  \n",
              "3                      8000.0               97.0             2.0  4.623520e+08  \n",
              "4                     19000.0              100.0             3.0  1.352819e+09  \n",
              "..                        ...                ...             ...           ...  \n",
              "222                     800.0                NaN             3.0  1.968394e+09  \n",
              "223                       NaN                NaN             1.0           NaN  \n",
              "224                     800.0               50.2             1.0  1.716495e+10  \n",
              "225                     800.0               80.6             2.0  9.201608e+09  \n",
              "226                    1900.0               90.7             2.0  2.324993e+10  \n",
              "\n",
              "[227 rows x 7 columns]"
            ]
          },
          "execution_count": 23,
          "metadata": {},
          "output_type": "execute_result"
        }
      ],
      "source": [
        "df['gdp'] =df['Total_Population']*df['Total_GDP ($ per capita)']\n",
        "df"
      ]
    },
    {
      "cell_type": "markdown",
      "metadata": {
        "id": "X-acprTKkuhT"
      },
      "source": [
        "**Q6: Create a data frame that counts the number countries in each region?**\n",
        "\n",
        "*Hint: Use `groupby`, select the `location` column and aggregate using `count`.*"
      ]
    },
    {
      "cell_type": "code",
      "execution_count": 29,
      "metadata": {
        "id": "tUY1jEnfkuhU"
      },
      "outputs": [
        {
          "data": {
            "text/plain": [
              "Region_Name\n",
              "ASIA (EX. NEAR EAST)                   28\n",
              "BALTICS                                 3\n",
              "C.W. OF IND. STATES                    12\n",
              "EASTERN EUROPE                         12\n",
              "LATIN AMER. & CARIB                    45\n",
              "NEAR EAST                              16\n",
              "NORTHERN AFRICA                         6\n",
              "NORTHERN AMERICA                        5\n",
              "OCEANIA                                21\n",
              "SUB-SAHARAN AFRICA                     51\n",
              "WESTERN EUROPE                         28\n",
              "Name: Country_Name, dtype: int64"
            ]
          },
          "execution_count": 29,
          "metadata": {},
          "output_type": "execute_result"
        }
      ],
      "source": [
        "country_counts_df =df.groupby('Region_Name')['Country_Name'].count()\n",
        "country_counts_df"
      ]
    },
    {
      "cell_type": "markdown",
      "metadata": {
        "id": "I5xnLU7OkuhU"
      },
      "source": [
        "**Q7: Create a data frame showing the total population of each region.**\n",
        "\n",
        "*Hint: Use `groupby`, select the population column and aggregate using `sum`.*"
      ]
    },
    {
      "cell_type": "code",
      "execution_count": 30,
      "metadata": {
        "id": "xmPgGJ1skuhU"
      },
      "outputs": [
        {
          "data": {
            "text/plain": [
              "Region_Name\n",
              "ASIA (EX. NEAR EAST)                   3687982236\n",
              "BALTICS                                   7184974\n",
              "C.W. OF IND. STATES                     280081548\n",
              "EASTERN EUROPE                          119914717\n",
              "LATIN AMER. & CARIB                     561824599\n",
              "NEAR EAST                               195068377\n",
              "NORTHERN AFRICA                         161407133\n",
              "NORTHERN AMERICA                        331672307\n",
              "OCEANIA                                  33131662\n",
              "SUB-SAHARAN AFRICA                      749437000\n",
              "WESTERN EUROPE                          396339998\n",
              "Name: Total_Population, dtype: int64"
            ]
          },
          "execution_count": 30,
          "metadata": {},
          "output_type": "execute_result"
        }
      ],
      "source": [
        "region_populations_df = df.groupby('Region_Name')['Total_Population'].sum()\n",
        "region_populations_df"
      ]
    },
    {
      "cell_type": "code",
      "execution_count": 47,
      "metadata": {},
      "outputs": [
        {
          "name": "stdout",
          "output_type": "stream",
          "text": [
            "<class 'pandas.core.frame.DataFrame'>\n",
            "RangeIndex: 227 entries, 0 to 226\n",
            "Data columns (total 7 columns):\n",
            " #   Column                    Non-Null Count  Dtype  \n",
            "---  ------                    --------------  -----  \n",
            " 0   Country_Name              227 non-null    object \n",
            " 1   Region_Name               227 non-null    object \n",
            " 2   Total_Population          227 non-null    int64  \n",
            " 3   Total_GDP ($ per capita)  226 non-null    float64\n",
            " 4   Literacy_rate (%)         209 non-null    float64\n",
            " 5   Climate_update            205 non-null    float64\n",
            " 6   gdp                       226 non-null    float64\n",
            "dtypes: float64(4), int64(1), object(2)\n",
            "memory usage: 12.5+ KB\n"
          ]
        }
      ],
      "source": [
        "df.info()"
      ]
    },
    {
      "cell_type": "markdown",
      "metadata": {
        "id": "n2tlLfQpkuhU"
      },
      "source": [
        "**Q8: Count the number of null values in each column**\n",
        "\n",
        "*Hint: Use `isna`.*"
      ]
    },
    {
      "cell_type": "code",
      "execution_count": 35,
      "metadata": {
        "id": "bx32XCmFkuhU"
      },
      "outputs": [
        {
          "data": {
            "text/plain": [
              "Country_Name                 0\n",
              "Region_Name                  0\n",
              "Total_Population             0\n",
              "Total_GDP ($ per capita)     1\n",
              "Literacy_rate (%)           18\n",
              "Climate_update              22\n",
              "gdp                          1\n",
              "dtype: int64"
            ]
          },
          "execution_count": 35,
          "metadata": {},
          "output_type": "execute_result"
        }
      ],
      "source": [
        "na_values =df.isna().sum()\n",
        "na_values"
      ]
    },
    {
      "cell_type": "markdown",
      "metadata": {
        "id": "aDwQRewykuhV"
      },
      "source": [
        "**Q9: Fill all the null values with the mean of their respective coluumn**\n",
        "\n",
        "*Hint: Use `mean` and `fillna`.*"
      ]
    },
    {
      "cell_type": "code",
      "execution_count": 59,
      "metadata": {
        "id": "ucumufYFkuhV"
      },
      "outputs": [
        {
          "name": "stderr",
          "output_type": "stream",
          "text": [
            "C:\\Users\\nasir\\AppData\\Local\\Temp\\ipykernel_15408\\956625199.py:5: FutureWarning: A value is trying to be set on a copy of a DataFrame or Series through chained assignment using an inplace method.\n",
            "The behavior will change in pandas 3.0. This inplace method will never work because the intermediate object on which we are setting values always behaves as a copy.\n",
            "\n",
            "For example, when doing 'df[col].method(value, inplace=True)', try using 'df.method({col: value}, inplace=True)' or df[col] = df[col].method(value) instead, to perform the operation inplace on the original object.\n",
            "\n",
            "\n",
            "  df[j].fillna(df[j].mean(),inplace=True)\n"
          ]
        },
        {
          "data": {
            "text/html": [
              "<div>\n",
              "<style scoped>\n",
              "    .dataframe tbody tr th:only-of-type {\n",
              "        vertical-align: middle;\n",
              "    }\n",
              "\n",
              "    .dataframe tbody tr th {\n",
              "        vertical-align: top;\n",
              "    }\n",
              "\n",
              "    .dataframe thead th {\n",
              "        text-align: right;\n",
              "    }\n",
              "</style>\n",
              "<table border=\"1\" class=\"dataframe\">\n",
              "  <thead>\n",
              "    <tr style=\"text-align: right;\">\n",
              "      <th></th>\n",
              "      <th>Country_Name</th>\n",
              "      <th>Region_Name</th>\n",
              "      <th>Total_Population</th>\n",
              "      <th>Total_GDP ($ per capita)</th>\n",
              "      <th>Literacy_rate (%)</th>\n",
              "      <th>Climate_update</th>\n",
              "      <th>gdp</th>\n",
              "    </tr>\n",
              "  </thead>\n",
              "  <tbody>\n",
              "    <tr>\n",
              "      <th>0</th>\n",
              "      <td>Afghanistan</td>\n",
              "      <td>ASIA (EX. NEAR EAST)</td>\n",
              "      <td>31056997</td>\n",
              "      <td>700.000000</td>\n",
              "      <td>36.000000</td>\n",
              "      <td>1.0</td>\n",
              "      <td>2.173990e+10</td>\n",
              "    </tr>\n",
              "    <tr>\n",
              "      <th>1</th>\n",
              "      <td>Albania</td>\n",
              "      <td>EASTERN EUROPE</td>\n",
              "      <td>3581655</td>\n",
              "      <td>4500.000000</td>\n",
              "      <td>86.500000</td>\n",
              "      <td>3.0</td>\n",
              "      <td>1.611745e+10</td>\n",
              "    </tr>\n",
              "    <tr>\n",
              "      <th>2</th>\n",
              "      <td>Algeria</td>\n",
              "      <td>NORTHERN AFRICA</td>\n",
              "      <td>32930091</td>\n",
              "      <td>6000.000000</td>\n",
              "      <td>70.000000</td>\n",
              "      <td>1.0</td>\n",
              "      <td>1.975805e+11</td>\n",
              "    </tr>\n",
              "    <tr>\n",
              "      <th>3</th>\n",
              "      <td>American Samoa</td>\n",
              "      <td>OCEANIA</td>\n",
              "      <td>57794</td>\n",
              "      <td>8000.000000</td>\n",
              "      <td>97.000000</td>\n",
              "      <td>2.0</td>\n",
              "      <td>4.623520e+08</td>\n",
              "    </tr>\n",
              "    <tr>\n",
              "      <th>4</th>\n",
              "      <td>Andorra</td>\n",
              "      <td>WESTERN EUROPE</td>\n",
              "      <td>71201</td>\n",
              "      <td>19000.000000</td>\n",
              "      <td>100.000000</td>\n",
              "      <td>3.0</td>\n",
              "      <td>1.352819e+09</td>\n",
              "    </tr>\n",
              "    <tr>\n",
              "      <th>...</th>\n",
              "      <td>...</td>\n",
              "      <td>...</td>\n",
              "      <td>...</td>\n",
              "      <td>...</td>\n",
              "      <td>...</td>\n",
              "      <td>...</td>\n",
              "      <td>...</td>\n",
              "    </tr>\n",
              "    <tr>\n",
              "      <th>222</th>\n",
              "      <td>West Bank</td>\n",
              "      <td>NEAR EAST</td>\n",
              "      <td>2460492</td>\n",
              "      <td>800.000000</td>\n",
              "      <td>82.838278</td>\n",
              "      <td>3.0</td>\n",
              "      <td>1.968394e+09</td>\n",
              "    </tr>\n",
              "    <tr>\n",
              "      <th>223</th>\n",
              "      <td>Western Sahara</td>\n",
              "      <td>NORTHERN AFRICA</td>\n",
              "      <td>273008</td>\n",
              "      <td>9689.823009</td>\n",
              "      <td>82.838278</td>\n",
              "      <td>1.0</td>\n",
              "      <td>2.332301e+11</td>\n",
              "    </tr>\n",
              "    <tr>\n",
              "      <th>224</th>\n",
              "      <td>Yemen</td>\n",
              "      <td>NEAR EAST</td>\n",
              "      <td>21456188</td>\n",
              "      <td>800.000000</td>\n",
              "      <td>50.200000</td>\n",
              "      <td>1.0</td>\n",
              "      <td>1.716495e+10</td>\n",
              "    </tr>\n",
              "    <tr>\n",
              "      <th>225</th>\n",
              "      <td>Zambia</td>\n",
              "      <td>SUB-SAHARAN AFRICA</td>\n",
              "      <td>11502010</td>\n",
              "      <td>800.000000</td>\n",
              "      <td>80.600000</td>\n",
              "      <td>2.0</td>\n",
              "      <td>9.201608e+09</td>\n",
              "    </tr>\n",
              "    <tr>\n",
              "      <th>226</th>\n",
              "      <td>Zimbabwe</td>\n",
              "      <td>SUB-SAHARAN AFRICA</td>\n",
              "      <td>12236805</td>\n",
              "      <td>1900.000000</td>\n",
              "      <td>90.700000</td>\n",
              "      <td>2.0</td>\n",
              "      <td>2.324993e+10</td>\n",
              "    </tr>\n",
              "  </tbody>\n",
              "</table>\n",
              "<p>227 rows × 7 columns</p>\n",
              "</div>"
            ],
            "text/plain": [
              "        Country_Name                          Region_Name  Total_Population  \\\n",
              "0       Afghanistan         ASIA (EX. NEAR EAST)                   31056997   \n",
              "1           Albania   EASTERN EUROPE                                3581655   \n",
              "2           Algeria   NORTHERN AFRICA                              32930091   \n",
              "3    American Samoa   OCEANIA                                         57794   \n",
              "4           Andorra   WESTERN EUROPE                                  71201   \n",
              "..               ...                                  ...               ...   \n",
              "222       West Bank   NEAR EAST                                     2460492   \n",
              "223  Western Sahara   NORTHERN AFRICA                                273008   \n",
              "224           Yemen   NEAR EAST                                    21456188   \n",
              "225          Zambia   SUB-SAHARAN AFRICA                           11502010   \n",
              "226        Zimbabwe   SUB-SAHARAN AFRICA                           12236805   \n",
              "\n",
              "     Total_GDP ($ per capita)  Literacy_rate (%)  Climate_update           gdp  \n",
              "0                  700.000000          36.000000             1.0  2.173990e+10  \n",
              "1                 4500.000000          86.500000             3.0  1.611745e+10  \n",
              "2                 6000.000000          70.000000             1.0  1.975805e+11  \n",
              "3                 8000.000000          97.000000             2.0  4.623520e+08  \n",
              "4                19000.000000         100.000000             3.0  1.352819e+09  \n",
              "..                        ...                ...             ...           ...  \n",
              "222                800.000000          82.838278             3.0  1.968394e+09  \n",
              "223               9689.823009          82.838278             1.0  2.332301e+11  \n",
              "224                800.000000          50.200000             1.0  1.716495e+10  \n",
              "225                800.000000          80.600000             2.0  9.201608e+09  \n",
              "226               1900.000000          90.700000             2.0  2.324993e+10  \n",
              "\n",
              "[227 rows x 7 columns]"
            ]
          },
          "execution_count": 59,
          "metadata": {},
          "output_type": "execute_result"
        }
      ],
      "source": [
        "# <START>\n",
        "i=df.columns\n",
        "for j in i:\n",
        "    if(df[j].dtype== 'int64' or df[j].dtype=='float64'):\n",
        "        df[j].fillna(df[j].mean(),inplace=True)\n",
        "     \n",
        "   \n",
        "\n",
        "# # <END>\n",
        "df\n"
      ]
    },
    {
      "cell_type": "markdown",
      "metadata": {
        "id": "0yjHgeEXkuhV"
      },
      "source": [
        "**Q10: Create a dataframe containing 10 countries with the lowest GDP per capita, among the counties with population greater than 100 million.**"
      ]
    },
    {
      "cell_type": "code",
      "execution_count": 65,
      "metadata": {
        "id": "_O5-X6UCkuhV"
      },
      "outputs": [
        {
          "data": {
            "text/html": [
              "<div>\n",
              "<style scoped>\n",
              "    .dataframe tbody tr th:only-of-type {\n",
              "        vertical-align: middle;\n",
              "    }\n",
              "\n",
              "    .dataframe tbody tr th {\n",
              "        vertical-align: top;\n",
              "    }\n",
              "\n",
              "    .dataframe thead th {\n",
              "        text-align: right;\n",
              "    }\n",
              "</style>\n",
              "<table border=\"1\" class=\"dataframe\">\n",
              "  <thead>\n",
              "    <tr style=\"text-align: right;\">\n",
              "      <th></th>\n",
              "      <th>Country_Name</th>\n",
              "      <th>Region_Name</th>\n",
              "      <th>Total_Population</th>\n",
              "      <th>Total_GDP ($ per capita)</th>\n",
              "      <th>Literacy_rate (%)</th>\n",
              "      <th>Climate_update</th>\n",
              "      <th>gdp</th>\n",
              "    </tr>\n",
              "  </thead>\n",
              "  <tbody>\n",
              "    <tr>\n",
              "      <th>200</th>\n",
              "      <td>Tanzania</td>\n",
              "      <td>SUB-SAHARAN AFRICA</td>\n",
              "      <td>37445392</td>\n",
              "      <td>600.0</td>\n",
              "      <td>78.2</td>\n",
              "      <td>2.139024</td>\n",
              "      <td>2.246724e+10</td>\n",
              "    </tr>\n",
              "    <tr>\n",
              "      <th>125</th>\n",
              "      <td>Malawi</td>\n",
              "      <td>SUB-SAHARAN AFRICA</td>\n",
              "      <td>13013926</td>\n",
              "      <td>600.0</td>\n",
              "      <td>62.7</td>\n",
              "      <td>2.000000</td>\n",
              "      <td>7.808356e+09</td>\n",
              "    </tr>\n",
              "    <tr>\n",
              "      <th>0</th>\n",
              "      <td>Afghanistan</td>\n",
              "      <td>ASIA (EX. NEAR EAST)</td>\n",
              "      <td>31056997</td>\n",
              "      <td>700.0</td>\n",
              "      <td>36.0</td>\n",
              "      <td>1.000000</td>\n",
              "      <td>2.173990e+10</td>\n",
              "    </tr>\n",
              "    <tr>\n",
              "      <th>65</th>\n",
              "      <td>Ethiopia</td>\n",
              "      <td>SUB-SAHARAN AFRICA</td>\n",
              "      <td>74777981</td>\n",
              "      <td>700.0</td>\n",
              "      <td>42.7</td>\n",
              "      <td>2.000000</td>\n",
              "      <td>5.234459e+10</td>\n",
              "    </tr>\n",
              "    <tr>\n",
              "      <th>45</th>\n",
              "      <td>Congo, Dem. Rep.</td>\n",
              "      <td>SUB-SAHARAN AFRICA</td>\n",
              "      <td>62660551</td>\n",
              "      <td>700.0</td>\n",
              "      <td>65.5</td>\n",
              "      <td>2.000000</td>\n",
              "      <td>4.386239e+10</td>\n",
              "    </tr>\n",
              "    <tr>\n",
              "      <th>224</th>\n",
              "      <td>Yemen</td>\n",
              "      <td>NEAR EAST</td>\n",
              "      <td>21456188</td>\n",
              "      <td>800.0</td>\n",
              "      <td>50.2</td>\n",
              "      <td>1.000000</td>\n",
              "      <td>1.716495e+10</td>\n",
              "    </tr>\n",
              "    <tr>\n",
              "      <th>151</th>\n",
              "      <td>Niger</td>\n",
              "      <td>SUB-SAHARAN AFRICA</td>\n",
              "      <td>12525094</td>\n",
              "      <td>800.0</td>\n",
              "      <td>17.6</td>\n",
              "      <td>1.000000</td>\n",
              "      <td>1.002008e+10</td>\n",
              "    </tr>\n",
              "    <tr>\n",
              "      <th>225</th>\n",
              "      <td>Zambia</td>\n",
              "      <td>SUB-SAHARAN AFRICA</td>\n",
              "      <td>11502010</td>\n",
              "      <td>800.0</td>\n",
              "      <td>80.6</td>\n",
              "      <td>2.000000</td>\n",
              "      <td>9.201608e+09</td>\n",
              "    </tr>\n",
              "    <tr>\n",
              "      <th>124</th>\n",
              "      <td>Madagascar</td>\n",
              "      <td>SUB-SAHARAN AFRICA</td>\n",
              "      <td>18595469</td>\n",
              "      <td>800.0</td>\n",
              "      <td>68.9</td>\n",
              "      <td>2.000000</td>\n",
              "      <td>1.487638e+10</td>\n",
              "    </tr>\n",
              "    <tr>\n",
              "      <th>152</th>\n",
              "      <td>Nigeria</td>\n",
              "      <td>SUB-SAHARAN AFRICA</td>\n",
              "      <td>131859731</td>\n",
              "      <td>900.0</td>\n",
              "      <td>68.0</td>\n",
              "      <td>1.500000</td>\n",
              "      <td>1.186738e+11</td>\n",
              "    </tr>\n",
              "  </tbody>\n",
              "</table>\n",
              "</div>"
            ],
            "text/plain": [
              "          Country_Name                          Region_Name  Total_Population  \\\n",
              "200          Tanzania   SUB-SAHARAN AFRICA                           37445392   \n",
              "125            Malawi   SUB-SAHARAN AFRICA                           13013926   \n",
              "0         Afghanistan         ASIA (EX. NEAR EAST)                   31056997   \n",
              "65           Ethiopia   SUB-SAHARAN AFRICA                           74777981   \n",
              "45   Congo, Dem. Rep.   SUB-SAHARAN AFRICA                           62660551   \n",
              "224             Yemen   NEAR EAST                                    21456188   \n",
              "151             Niger   SUB-SAHARAN AFRICA                           12525094   \n",
              "225            Zambia   SUB-SAHARAN AFRICA                           11502010   \n",
              "124        Madagascar   SUB-SAHARAN AFRICA                           18595469   \n",
              "152           Nigeria   SUB-SAHARAN AFRICA                          131859731   \n",
              "\n",
              "     Total_GDP ($ per capita)  Literacy_rate (%)  Climate_update           gdp  \n",
              "200                     600.0               78.2        2.139024  2.246724e+10  \n",
              "125                     600.0               62.7        2.000000  7.808356e+09  \n",
              "0                       700.0               36.0        1.000000  2.173990e+10  \n",
              "65                      700.0               42.7        2.000000  5.234459e+10  \n",
              "45                      700.0               65.5        2.000000  4.386239e+10  \n",
              "224                     800.0               50.2        1.000000  1.716495e+10  \n",
              "151                     800.0               17.6        1.000000  1.002008e+10  \n",
              "225                     800.0               80.6        2.000000  9.201608e+09  \n",
              "124                     800.0               68.9        2.000000  1.487638e+10  \n",
              "152                     900.0               68.0        1.500000  1.186738e+11  "
            ]
          },
          "execution_count": 65,
          "metadata": {},
          "output_type": "execute_result"
        }
      ],
      "source": [
        "# <START>\n",
        "filt=(df['Total_Population']>=10000000)\n",
        "df[filt].sort_values(by='Total_GDP ($ per capita)',ascending=True).head(10)\n",
        "# <END>"
      ]
    },
    {
      "cell_type": "markdown",
      "metadata": {
        "id": "Ni66jSVfkuhW"
      },
      "source": [
        "# **Matplotlib**\n"
      ]
    },
    {
      "cell_type": "markdown",
      "metadata": {
        "id": "JFt34EhekuhW"
      },
      "source": [
        "Data visualisation is a very important part of data science. It helps us understand the data better and draw conclusions from it and Matplotlib is the most popular library in python for this step.\n",
        "\n",
        "In this section, you'll navigate through a series of challenges that not only familiarize you with Matplotlib but also showcase the diverse array of plots and their practical applications. This will not only enhance your Matplotlib skills but also sharpen your ability to choose the right plot for the right scenario.\n",
        "\n",
        "So let's delve in and master the craft of transforming data into compelling visual insights. We will have start with importing the matplotlib library"
      ]
    },
    {
      "cell_type": "code",
      "execution_count": 2,
      "metadata": {
        "id": "5BYjZI50kuhW"
      },
      "outputs": [],
      "source": [
        "import matplotlib.pyplot as plt\n",
        "import numpy as np"
      ]
    },
    {
      "cell_type": "markdown",
      "metadata": {
        "id": "b-icyChckuhW"
      },
      "source": [
        "Now, let's start with a simple x vs y plot.\n",
        "1. Create 2 numpy arrays `x` and `y` of random integers, of size (5,1)\n",
        "2. Create a plot of `x` vs `y` using the `plot()` function\n",
        "3. Add labels to the X and Y axes\n",
        "4. Add a title to the plot"
      ]
    },
    {
      "cell_type": "code",
      "execution_count": 3,
      "metadata": {
        "id": "UaLaWY39kuhW"
      },
      "outputs": [
        {
          "data": {
            "image/png": "[encoded data removed]",
            "text/plain": [
              "<Figure size 640x480 with 1 Axes>"
            ]
          },
          "metadata": {},
          "output_type": "display_data"
        }
      ],
      "source": [
        "# <START>\n",
        "x=np.random.rand(5,1)\n",
        "y=np.random.rand(5,1)\n",
        "plt.plot(x,y)\n",
        "plt.xlabel('X')    \n",
        "plt.ylabel('Y')    \n",
        "plt.title('A Basic Plot')\n",
        "# <END>\n",
        "plt.show()"
      ]
    },
    {
      "cell_type": "markdown",
      "metadata": {
        "id": "0JtysfjYkuhX"
      },
      "source": [
        "### **Bar Graphs**\n",
        "\n",
        "Bar graph uses bars to compare data among different categories. It is well suited when you want to measure the changes over a period of time. It can be represented horizontally or vertically. Also, the important thing to keep in mind is that longer the bar, greater is the value.\n",
        "\n",
        "We will be plotting a grouped bar chart in this task. More often than not, it’s more interesting to compare values across two dimensions and for that, a grouped bar chart is needed. (Although no need to worry, making a grouped chart is just calling the `.bar()` command twice :)"
      ]
    },
    {
      "cell_type": "code",
      "execution_count": 3,
      "metadata": {
        "id": "ojCW7pFLkuhY"
      },
      "outputs": [],
      "source": [
        "# Create the data to be plotted\n",
        "x1 = np.array([0.25,1.25,2.25,3.25,4.25]) #this will decide the x-coordinate of the centre of the bars\n",
        "y1 = np.array([10,55,80,32,40])\n",
        "width = 0.5 # width of the bars\n",
        "x2 = x1 + width # this will shift the x-coordinate of the centre of the bars by width\n",
        "y2 = np.array([42,26,10,29,66])"
      ]
    },
    {
      "cell_type": "markdown",
      "metadata": {
        "id": "2hdTZet-kuhY"
      },
      "source": [
        "Now,\n",
        "1. Create the bar graphs. Assign different label and color to both the plots.\n",
        "2. Create legend, title and axes labels\n",
        "3. Play around with the values to get a sense of how everything is working"
      ]
    },
    {
      "cell_type": "code",
      "execution_count": 7,
      "metadata": {
        "id": "lMh91WorkuhY"
      },
      "outputs": [
        {
          "data": {
            "text/plain": [
              "<matplotlib.legend.Legend at 0x22eaea44f20>"
            ]
          },
          "execution_count": 7,
          "metadata": {},
          "output_type": "execute_result"
        },
        {
          "data": {
            "image/png": "[encoded data removed]",
            "text/plain": [
              "<Figure size 640x480 with 1 Axes>"
            ]
          },
          "metadata": {},
          "output_type": "display_data"
        }
      ],
      "source": [
        "plt.bar(x1, y1, width=width, color='b', align='center', label='Group 1')\n",
        "plt.bar(x2, y2, width=width, color='r', align='center', label='Group 2')\n",
        "\n",
        "plt.legend()"
      ]
    },
    {
      "cell_type": "markdown",
      "metadata": {
        "id": "AZmnrZ_ikuhZ"
      },
      "source": [
        "### **Histograms**\n",
        "\n",
        "Histograms are used to show a distribution whereas a bar chart is used to compare different entities. Histograms are useful when you have arrays or a very long list. I have to plot the age of population with respect to bin. Now, bin refers to the range of values that are divided into series of intervals. Bins are usually created of the same size.\n",
        "\n",
        "For this task, you should:\n",
        "1. Create bins of interval 10 from 0 to 100. Use `np.arange`\n",
        "2. Generate data to be plotted. You can use numpy for this or write the data yourself. Pick atleast 30 valus.\n",
        "3. Plot the histogram, label the axes and title the plot\n",
        "4. Customise the color and width of the plot as per your choice"
      ]
    },
    {
      "cell_type": "code",
      "execution_count": 5,
      "metadata": {
        "id": "MTwBQQGVkuhZ"
      },
      "outputs": [
        {
          "data": {
            "text/plain": [
              "<function matplotlib.pyplot.show(close=None, block=None)>"
            ]
          },
          "execution_count": 5,
          "metadata": {},
          "output_type": "execute_result"
        },
        {
          "data": {
            "image/png": "[encoded data removed]",
            "text/plain": [
              "<Figure size 640x480 with 1 Axes>"
            ]
          },
          "metadata": {},
          "output_type": "display_data"
        }
      ],
      "source": [
        "import random\n",
        "bins=np.arange(0,101,10)\n",
        "y= [random.randint(10, 100) for _ in range(35)]\n",
        "plt.hist(y,bins=bins,edgecolor='black')\n",
        "plt.xlabel('Total_GDP( in  0.1 trillion $ )')\n",
        "plt.ylabel('Total No. Of countries')\n",
        "plt.show\n",
        "\n"
      ]
    },
    {
      "cell_type": "markdown",
      "metadata": {
        "id": "YmBL9XNfkuhZ"
      },
      "source": [
        "### **Scatter plot**\n",
        "\n",
        "Usually we need scatter plots in order to compare variables, for example, how much one variable is affected by another variable to build a relation out of it. The data is displayed as a collection of points, each having the value of one variable which determines the position on the horizontal axis and the value of other variable determines the position on the vertical axis\n",
        "\n",
        "1. Create 2 sets of data, `(x1,y1)` and `(x2,y2)` with 8 values each\n",
        "2. Create the scatter plots for both of them and give different labels to each\n",
        "3. Stylise each plot, by giving different colors and marker style. *(Use `marker` argument)*\n",
        "4. Provide legend"
      ]
    },
    {
      "cell_type": "code",
      "execution_count": 16,
      "metadata": {
        "id": "ygHKmJJakuha"
      },
      "outputs": [
        {
          "data": {
            "text/plain": [
              "<matplotlib.legend.Legend at 0x1c31a9594c0>"
            ]
          },
          "execution_count": 16,
          "metadata": {},
          "output_type": "execute_result"
        },
        {
          "data": {
            "image/png": "[encoded data removed]",
            "text/plain": [
              "<Figure size 640x480 with 1 Axes>"
            ]
          },
          "metadata": {},
          "output_type": "display_data"
        }
      ],
      "source": [
        "x=[random.randint(0,300) for _ in range(8)]\n",
        "y1=[random.randint(0,300) for _ in range(8)]\n",
        "y2=[random.randint(0,300) for _ in range(8)]\n",
        "y3=[random.randint(0,300) for _ in range(8)]\n",
        "\n",
        "plt.scatter(x, y1, marker='o', label='Age: Below 18')\n",
        "plt.scatter(x, y2, marker='s', label='Age: Above 18 below 40 ')\n",
        "plt.scatter(x, y3, marker='^', label='Age : Above 40')\n",
        "plt.legend()\n",
        "\n",
        "\n",
        "\n"
      ]
    },
    {
      "cell_type": "markdown",
      "metadata": {
        "id": "h1rYhSoMkuha"
      },
      "source": [
        "### **Subplots**\n",
        "\n",
        "*Look up the `subplot()` command and it's use*\n",
        "\n",
        "1. Generate multiple datasets for different plots.\n",
        "2. Create a figure with multiple subplots (e.g., a 2x2 grid).\n",
        "3. Plot different types of charts (line, scatter, bar) in each subplot. You are free to choose any kind of data and plot."
      ]
    },
    {
      "cell_type": "code",
      "execution_count": 29,
      "metadata": {
        "id": "L-IUOYBZkuha"
      },
      "outputs": [
        {
          "data": {
            "image/png": "[encoded data removed]",
            "text/plain": [
              "<Figure size 800x600 with 4 Axes>"
            ]
          },
          "metadata": {},
          "output_type": "display_data"
        }
      ],
      "source": [
        "import matplotlib.pyplot as plt\n",
        "\n",
        "plt.figure(figsize=(8, 6))\n",
        "\n",
        "plt.subplot(2, 2, 1)\n",
        "plt.plot([1, 2, 3, 4], [1, 4, 9, 16])\n",
        "plt.title('Plot 1')\n",
        "\n",
        "plt.subplot(2, 2, 2)\n",
        "plt.scatter([1, 2, 3, 4], [1, 4, 9, 16],marker='^',color='green')\n",
        "plt.title('Plot 2')\n",
        "\n",
        "plt.subplot(2, 2, 3)\n",
        "plt.plot([1, 4, 9, 16],[1, 2, 3, 4],color='#444444', linestyle='--')\n",
        "plt.title('Plot 3')\n",
        "\n",
        "plt.subplot(2, 2, 4)\n",
        "plt.plot([1, 2, 3, 4], [4, 3, 2, 1])\n",
        "plt.title('Plot 4')\n",
        "\n",
        "plt.tight_layout()\n",
        "plt.show()\n"
      ]
    }
  ],
  "metadata": {
    "colab": {
      "include_colab_link": true,
      "provenance": []
    },
    "kernelspec": {
      "display_name": "Python 3",
      "name": "python3"
    },
    "language_info": {
      "codemirror_mode": {
        "name": "ipython",
        "version": 3
      },
      "file_extension": ".py",
      "mimetype": "text/x-python",
      "name": "python",
      "nbconvert_exporter": "python",
      "pygments_lexer": "ipython3",
      "version": "3.12.2"
    }
  },
  "nbformat": 4,
  "nbformat_minor": 0
}
